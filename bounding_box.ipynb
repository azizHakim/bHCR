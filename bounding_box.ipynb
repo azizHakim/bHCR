{
 "cells": [
  {
   "cell_type": "markdown",
   "metadata": {},
   "source": [
    "### Bounding Box"
   ]
  },
  {
   "cell_type": "markdown",
   "metadata": {},
   "source": [
    "#### This code applies bounding box to the roi of the images and renames them"
   ]
  },
  {
   "cell_type": "code",
   "execution_count": 1,
   "metadata": {},
   "outputs": [],
   "source": [
    "import numpy as np\n",
    "import pandas as pd\n",
    "import os\n",
    "import glob\n",
    "import cv2 # the opencv library\n",
    "import matplotlib.pyplot as plt"
   ]
  },
  {
   "cell_type": "code",
   "execution_count": null,
   "metadata": {},
   "outputs": [],
   "source": [
    "os.getcwd()\n",
    "data_dir='data directory'\n",
    "paths_img=glob.glob(os.path.join(data_dir,'folder name','*.png'))"
   ]
  },
  {
   "cell_type": "code",
   "execution_count": null,
   "metadata": {},
   "outputs": [],
   "source": [
    "def img_bb(path):\n",
    "    # shows image with bounding box\n",
    "    BB_COLOR=255 # bounding box color\n",
    "    if os.path.isfile(path):\n",
    "        img_gray=cv2.imread(path,cv2.IMREAD_GRAYSCALE) # read image\n",
    "        \n",
    "        \n",
    "        (thresh, img_gray) = cv2.threshold(img_gray, 128, 255, cv2.THRESH_OTSU)\n",
    "        if len(img_gray[img_gray==255])>len(img_gray[img_gray==0]):\n",
    "            img_gray=255-img_gray\n",
    "        \n",
    "        _,contours,_ = cv2.findContours(img_gray, cv2.RETR_EXTERNAL, cv2.CHAIN_APPROX_SIMPLE)\n",
    "       \n",
    "          \n",
    "        countours_largest = sorted(contours, key=lambda x: cv2.contourArea(x))[-1]\n",
    "        bb=cv2.boundingRect(countours_largest)\n",
    "        PIXEL_ADJ=3\n",
    "        pt1=[bb[0],bb[1]]\n",
    "        pt2=[bb[0]+bb[2],bb[1]+bb[3]]\n",
    "        # pt1 and pt2 are terminal coordinates of the diagonal of the rectangle\n",
    "        if pt1[0]-PIXEL_ADJ>=0: # upper x coordinate\n",
    "            pt1[0]=pt1[0]-PIXEL_ADJ\n",
    "        else: pt1[0]=0\n",
    "        if pt1[1]-PIXEL_ADJ>=0: # upper y coordinate\n",
    "            pt1[1]=pt1[1]-PIXEL_ADJ\n",
    "        else: pt1[1]=0\n",
    "        if pt2[0]+PIXEL_ADJ<=img_gray.shape[0]: # lower x coordinate\n",
    "            pt2[0]=pt2[0]+PIXEL_ADJ\n",
    "        else: pt2[0]=img_gray.shape[0]\n",
    "        if pt2[1]+PIXEL_ADJ<=img_gray.shape[0]: # lower y coordinate\n",
    "            pt2[1]=pt2[1]+PIXEL_ADJ\n",
    "        else: pt2[1]=img_gray.shape[0]\n",
    "        img_gray = img_gray[pt1[1]:pt2[1], pt1[0]:pt2[0]]\n",
    "    else:\n",
    "        print ( path)\n",
    "        \n",
    "    return img_gray"
   ]
  },
  {
   "cell_type": "markdown",
   "metadata": {},
   "source": [
    "#### rename the images"
   ]
  },
  {
   "cell_type": "code",
   "execution_count": null,
   "metadata": {},
   "outputs": [],
   "source": [
    "for i,path in enumerate(paths_img):\n",
    "    img=img_bb(path)\n",
    "    #plt.imshow(img,cmap='gray')\n",
    "    cv2.imwrite('images/'+str(i) + \".png\",img )"
   ]
  }
 ],
 "metadata": {
  "kernelspec": {
   "display_name": "Python 3",
   "language": "python",
   "name": "python3"
  },
  "language_info": {
   "codemirror_mode": {
    "name": "ipython",
    "version": 3
   },
   "file_extension": ".py",
   "mimetype": "text/x-python",
   "name": "python",
   "nbconvert_exporter": "python",
   "pygments_lexer": "ipython3",
   "version": "3.6.6"
  }
 },
 "nbformat": 4,
 "nbformat_minor": 2
}
