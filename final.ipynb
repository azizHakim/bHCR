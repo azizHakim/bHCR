{
 "cells": [
  {
   "cell_type": "code",
   "execution_count": 0,
   "metadata": {
    "colab": {
     "base_uri": "https://localhost:8080/",
     "height": 882
    },
    "colab_type": "code",
    "id": "j-gfcBu9YUys",
    "outputId": "25ee0311-d4c9-4271-ad7a-cdcb52716c02"
   },
   "outputs": [
    {
     "name": "stdout",
     "output_type": "stream",
     "text": [
      "--2019-01-12 12:10:49--  https://www.dropbox.com/s/4623frt8ufu3uqz/dataset.zip\n",
      "Resolving www.dropbox.com (www.dropbox.com)... 162.125.82.1, 2620:100:6032:1::a27d:5201\n",
      "Connecting to www.dropbox.com (www.dropbox.com)|162.125.82.1|:443... connected.\n",
      "HTTP request sent, awaiting response... 301 Moved Permanently\n",
      "Location: /s/raw/4623frt8ufu3uqz/dataset.zip [following]\n",
      "--2019-01-12 12:10:55--  https://www.dropbox.com/s/raw/4623frt8ufu3uqz/dataset.zip\n",
      "Reusing existing connection to www.dropbox.com:443.\n",
      "HTTP request sent, awaiting response... 302 Found\n",
      "Location: https://uc26bb19edd21fa6cce4ee556fe0.dl.dropboxusercontent.com/cd/0/inline/AZRpUOBVuCeIo2C9dxD_WCtXJy8wFxWcdoH7l8_WeUonILXzNmo6VK5oXVGc1mKT7R-tB_SF7cG1mchdAnEG7qlpimWCV_11xc0UqVOHlFVpEDH80LmZENwM3u21bo2faWL9nsfhhavjvA2Ihguz5MEbBoQHxPe1OkEwa42MdobNCBXpjIlZqWKKi96yk-lThII/file [following]\n",
      "--2019-01-12 12:10:55--  https://uc26bb19edd21fa6cce4ee556fe0.dl.dropboxusercontent.com/cd/0/inline/AZRpUOBVuCeIo2C9dxD_WCtXJy8wFxWcdoH7l8_WeUonILXzNmo6VK5oXVGc1mKT7R-tB_SF7cG1mchdAnEG7qlpimWCV_11xc0UqVOHlFVpEDH80LmZENwM3u21bo2faWL9nsfhhavjvA2Ihguz5MEbBoQHxPe1OkEwa42MdobNCBXpjIlZqWKKi96yk-lThII/file\n",
      "Resolving uc26bb19edd21fa6cce4ee556fe0.dl.dropboxusercontent.com (uc26bb19edd21fa6cce4ee556fe0.dl.dropboxusercontent.com)... 162.125.82.6, 2620:100:6032:6::a27d:5206\n",
      "Connecting to uc26bb19edd21fa6cce4ee556fe0.dl.dropboxusercontent.com (uc26bb19edd21fa6cce4ee556fe0.dl.dropboxusercontent.com)|162.125.82.6|:443... connected.\n",
      "HTTP request sent, awaiting response... 302 FOUND\n",
      "Location: /cd/0/inline2/AZTbgv-gnzkNXjmbNP2fIrIoM1tcP2l-GG4SHIdLqUhUAGHEd1QJ_vthbVf41LkV2pi2Cddiag2Y5_ESqXKIA_mlw5ssSj__PyC8nW1KrbKL7fV1kCnP2DjF_XRjrRE5DVyn_YnPRn7MW_f3AoF9Lf-SfTaPmFHWK4m2PBS6-HRW8ylfw4uDD6-M7Hna2yIQgmjpeT046dCgR2vl6SuuH4dMMkikv2pd2rB6bgLlUDllEnVfgl9dNMGH5FPjGrIzlgy0bZkvlEzYfUsb_sM1lMT88I98BSICldMuXNrLcxRrIu5F7ja4omjuXzFy8w2KsCiaXOrgTte8wQtZUPVIdsZe3a5Qy8aeYVujGtbfULlJkiGN2KpOtO_zWjNTcBS3zAQ6jHGNONV3UL0M0SRgn3eSihRn91RYmUboCZ-hqRyBxu6XW5dDu2V--1mMpLKfBOo/file [following]\n",
      "--2019-01-12 12:10:56--  https://uc26bb19edd21fa6cce4ee556fe0.dl.dropboxusercontent.com/cd/0/inline2/AZTbgv-gnzkNXjmbNP2fIrIoM1tcP2l-GG4SHIdLqUhUAGHEd1QJ_vthbVf41LkV2pi2Cddiag2Y5_ESqXKIA_mlw5ssSj__PyC8nW1KrbKL7fV1kCnP2DjF_XRjrRE5DVyn_YnPRn7MW_f3AoF9Lf-SfTaPmFHWK4m2PBS6-HRW8ylfw4uDD6-M7Hna2yIQgmjpeT046dCgR2vl6SuuH4dMMkikv2pd2rB6bgLlUDllEnVfgl9dNMGH5FPjGrIzlgy0bZkvlEzYfUsb_sM1lMT88I98BSICldMuXNrLcxRrIu5F7ja4omjuXzFy8w2KsCiaXOrgTte8wQtZUPVIdsZe3a5Qy8aeYVujGtbfULlJkiGN2KpOtO_zWjNTcBS3zAQ6jHGNONV3UL0M0SRgn3eSihRn91RYmUboCZ-hqRyBxu6XW5dDu2V--1mMpLKfBOo/file\n",
      "Reusing existing connection to uc26bb19edd21fa6cce4ee556fe0.dl.dropboxusercontent.com:443.\n",
      "HTTP request sent, awaiting response... 200 OK\n",
      "Length: 136462757 (130M) [application/zip]\n",
      "Saving to: ‘dataset.zip’\n",
      "\n",
      "dataset.zip         100%[===================>] 130.14M  26.9MB/s    in 10s     \n",
      "\n",
      "2019-01-12 12:11:07 (12.8 MB/s) - ‘dataset.zip’ saved [136462757/136462757]\n",
      "\n",
      "--2019-01-12 12:11:09--  https://www.dropbox.com/s/ghqv553yfk5pzja/correction.zip\n",
      "Resolving www.dropbox.com (www.dropbox.com)... 162.125.82.1, 2620:100:6032:1::a27d:5201\n",
      "Connecting to www.dropbox.com (www.dropbox.com)|162.125.82.1|:443... connected.\n",
      "HTTP request sent, awaiting response... 301 Moved Permanently\n",
      "Location: /s/raw/ghqv553yfk5pzja/correction.zip [following]\n",
      "--2019-01-12 12:11:09--  https://www.dropbox.com/s/raw/ghqv553yfk5pzja/correction.zip\n",
      "Reusing existing connection to www.dropbox.com:443.\n",
      "HTTP request sent, awaiting response... 302 Found\n",
      "Location: https://uc07ad3f8c2f7b1ad5752b1871f2.dl.dropboxusercontent.com/cd/0/inline/AZR1ro74ngPm-Q1EDn3J0j148C9PDM4ogJTnssR1UmKDxYFbMUEzk38zignHy60IRGRZQ0PjrItYMUYJPputuEs3K36lUmEbG18VEFmsQTaHGDdG7EcWJZz5WtPRiYThv8XS0yqt5ah50EDRyINibQs5UaYl4mIqHTOl4HKF5KG8fxPENuQuJP3rgkNBzBOJres/file [following]\n",
      "--2019-01-12 12:11:09--  https://uc07ad3f8c2f7b1ad5752b1871f2.dl.dropboxusercontent.com/cd/0/inline/AZR1ro74ngPm-Q1EDn3J0j148C9PDM4ogJTnssR1UmKDxYFbMUEzk38zignHy60IRGRZQ0PjrItYMUYJPputuEs3K36lUmEbG18VEFmsQTaHGDdG7EcWJZz5WtPRiYThv8XS0yqt5ah50EDRyINibQs5UaYl4mIqHTOl4HKF5KG8fxPENuQuJP3rgkNBzBOJres/file\n",
      "Resolving uc07ad3f8c2f7b1ad5752b1871f2.dl.dropboxusercontent.com (uc07ad3f8c2f7b1ad5752b1871f2.dl.dropboxusercontent.com)... 162.125.82.6, 2620:100:6032:6::a27d:5206\n",
      "Connecting to uc07ad3f8c2f7b1ad5752b1871f2.dl.dropboxusercontent.com (uc07ad3f8c2f7b1ad5752b1871f2.dl.dropboxusercontent.com)|162.125.82.6|:443... connected.\n",
      "HTTP request sent, awaiting response... 302 FOUND\n",
      "Location: /cd/0/inline2/AZSjAgYYqpNQCYO4deMGjCNhsDR6S1wwm-qB47Fn7gVCgwTOeXpwvAt7aKKpCppTXng_X_4A4qzVaok1aU4HDADS6Rv6WSYQKBNPSnHOGe9IZpXc3St948dJcSQbRG1Gj8UmBM3OrlVfo3datgDmvY6ns78C78mlOspaA_7yQ3ZXGqGs1wIMXp_vGBjrr9UU53vYcsIGuOwlwmwm12_2DjvigoktxrFwjHKTg2xb0p8qiIn7Ye-mYaWtFfjwHkSD0pFqDGa1uCpzeuBtpL0r0dy4eltLeoh7AfBYXfxhexdUqD3Sd3NbkEw1Zs0HmGeYVP0hURsnThuNYwZ5V_hQFKXkHEDt_Gb4mF3qaXk5taQ7J8U_-ROlnDxWHu3EZuSPfowuWeDW8FfJ7Oeqzcu0SYjlrT1UVFIuB-elunA5D-Mq9K58hkn_y3idoRxD89k9cSw/file [following]\n",
      "--2019-01-12 12:11:10--  https://uc07ad3f8c2f7b1ad5752b1871f2.dl.dropboxusercontent.com/cd/0/inline2/AZSjAgYYqpNQCYO4deMGjCNhsDR6S1wwm-qB47Fn7gVCgwTOeXpwvAt7aKKpCppTXng_X_4A4qzVaok1aU4HDADS6Rv6WSYQKBNPSnHOGe9IZpXc3St948dJcSQbRG1Gj8UmBM3OrlVfo3datgDmvY6ns78C78mlOspaA_7yQ3ZXGqGs1wIMXp_vGBjrr9UU53vYcsIGuOwlwmwm12_2DjvigoktxrFwjHKTg2xb0p8qiIn7Ye-mYaWtFfjwHkSD0pFqDGa1uCpzeuBtpL0r0dy4eltLeoh7AfBYXfxhexdUqD3Sd3NbkEw1Zs0HmGeYVP0hURsnThuNYwZ5V_hQFKXkHEDt_Gb4mF3qaXk5taQ7J8U_-ROlnDxWHu3EZuSPfowuWeDW8FfJ7Oeqzcu0SYjlrT1UVFIuB-elunA5D-Mq9K58hkn_y3idoRxD89k9cSw/file\n",
      "Reusing existing connection to uc07ad3f8c2f7b1ad5752b1871f2.dl.dropboxusercontent.com:443.\n",
      "HTTP request sent, awaiting response... 200 OK\n",
      "Length: 3196242 (3.0M) [application/zip]\n",
      "Saving to: ‘correction.zip’\n",
      "\n",
      "correction.zip      100%[===================>]   3.05M  8.36MB/s    in 0.4s    \n",
      "\n",
      "2019-01-12 12:11:11 (8.36 MB/s) - ‘correction.zip’ saved [3196242/3196242]\n",
      "\n"
     ]
    }
   ],
   "source": [
    "!wget https://www.dropbox.com/s/4623frt8ufu3uqz/dataset.zip\n",
    "#!wget https://www.dropbox.com/s/ghqv553yfk5pzja/correction.zip"
   ]
  },
  {
   "cell_type": "code",
   "execution_count": 0,
   "metadata": {
    "colab": {},
    "colab_type": "code",
    "id": "65RaJSG5ZOdC"
   },
   "outputs": [],
   "source": [
    "!mkdir data"
   ]
  },
  {
   "cell_type": "code",
   "execution_count": 0,
   "metadata": {
    "colab": {
     "base_uri": "https://localhost:8080/",
     "height": 158
    },
    "colab_type": "code",
    "id": "mbyeDw7HZ8L7",
    "outputId": "b93f836a-7f9d-4d29-c2a5-84bd96268cc9"
   },
   "outputs": [
    {
     "name": "stderr",
     "output_type": "stream",
     "text": [
      "warning [dataset.zip]:  76 extra bytes at beginning or within zipfile\n",
      "  (attempting to process anyway)\n",
      "error [dataset.zip]:  reported length of central directory is\n",
      "  -76 bytes too long (Atari STZip zipfile?  J.H.Holm ZIPSPLIT 1.1\n",
      "  zipfile?).  Compensating...\n",
      "error:  expected central file header signature not found (file #104105).\n",
      "  (please check that you have transferred or created the zipfile in the\n",
      "  appropriate BINARY mode and that you have compiled UnZip properly)\n"
     ]
    }
   ],
   "source": [
    "%%bash\n",
    "unzip -q dataset.zip -d data/\n",
    "#unzip -q correction.zip -d data/"
   ]
  },
  {
   "cell_type": "code",
   "execution_count": 0,
   "metadata": {
    "colab": {
     "base_uri": "https://localhost:8080/",
     "height": 70
    },
    "colab_type": "code",
    "id": "MA2iJQJOqKVf",
    "outputId": "f6fd3043-475c-4b95-c71b-2c0472b57f85"
   },
   "outputs": [
    {
     "name": "stdout",
     "output_type": "stream",
     "text": [
      "cor\t    train_cons.csv  train_vow\t   val_cons.csv  val_vow\n",
      "corr.csv    train_num\t    train_vow.csv  val_num\t val_vow.csv\n",
      "train_cons  train_num.csv   val_cons\t   val_num.csv\n"
     ]
    }
   ],
   "source": [
    "!ls data/"
   ]
  },
  {
   "cell_type": "code",
   "execution_count": 0,
   "metadata": {
    "colab": {
     "base_uri": "https://localhost:8080/",
     "height": 34
    },
    "colab_type": "code",
    "id": "Sjpd3fHxfIkF",
    "outputId": "ff2d5461-ea0d-43ee-9172-9411468445d5"
   },
   "outputs": [
    {
     "name": "stderr",
     "output_type": "stream",
     "text": [
      "Using TensorFlow backend.\n"
     ]
    }
   ],
   "source": [
    "import tensorflow as tf\n",
    "import numpy as np\n",
    "import os\n",
    "import glob\n",
    "import cv2\n",
    "import matplotlib.pyplot as plt\n",
    "import pandas as pd\n",
    "import pickle\n",
    "import keras\n",
    "from keras import regularizers\n",
    "from keras.utils import to_categorical\n",
    "from keras.layers import Dense, Input, Conv2D, Flatten, MaxPooling2D,BatchNormalization, Activation,Dropout\n",
    "from keras.models import Model\n",
    "from keras.callbacks import ModelCheckpoint\n",
    "from keras import backend as K\n",
    "from __future__ import print_function\n",
    "\n",
    "from keras.models import Sequential\n",
    "from keras.layers import Dense, Activation\n",
    "from keras.utils import to_categorical\n",
    "from sklearn.model_selection import train_test_split\n",
    "from keras.preprocessing.image import ImageDataGenerator\n",
    "import gc\n",
    "from keras.models import load_model\n",
    "from google.colab import files"
   ]
  },
  {
   "cell_type": "code",
   "execution_count": 0,
   "metadata": {
    "colab": {},
    "colab_type": "code",
    "id": "YnVFV2RrfciM"
   },
   "outputs": [],
   "source": [
    "RESIZE_DIM=96\n",
    "\n",
    "data_dir='data'\n",
    "#data_dir=os.path.join('..','input')\n",
    "paths_t_numbers=glob.glob(os.path.join(data_dir,'train_num','*.png'))\n",
    "paths_t_vowels=glob.glob(os.path.join(data_dir,'train_vow','*.png'))\n",
    "paths_t_cons=glob.glob(os.path.join(data_dir,'train_cons','*.png'))\n",
    "paths_cor=glob.glob(os.path.join(data_dir,'cor','*.png'))\n",
    "\n",
    "paths_train_all=paths_t_numbers+paths_t_vowels+paths_t_cons+paths_cor\n",
    "\n",
    "\n",
    "paths_v_numbers=glob.glob(os.path.join(data_dir,'val_num','*.png'))\n",
    "paths_v_vowels=glob.glob(os.path.join(data_dir,'val_vow','*.png'))\n",
    "paths_v_cons=glob.glob(os.path.join(data_dir,'val_cons','*.png'))\n",
    "\n",
    "paths_val_all=paths_v_numbers+paths_v_vowels+paths_v_cons\n",
    "\n",
    "\n",
    "path_label_t_num=os.path.join(data_dir,'train_num.csv')\n",
    "path_label_t_vow=os.path.join(data_dir,'train_vow.csv')\n",
    "path_label_t_cons=os.path.join(data_dir,'train_cons.csv')\n",
    "path_lavel_cor   =os.path.join(data_dir,'corr.csv')\n",
    "\n",
    "path_label_v_num=os.path.join(data_dir,'val_num.csv')\n",
    "path_label_v_vow=os.path.join(data_dir,'val_vow.csv')\n",
    "path_label_v_cons=os.path.join(data_dir,'val_cons.csv')"
   ]
  },
  {
   "cell_type": "code",
   "execution_count": 0,
   "metadata": {
    "colab": {},
    "colab_type": "code",
    "id": "pjY3isgWf4wE"
   },
   "outputs": [],
   "source": [
    "def get_key(path):\n",
    "    # seperates the key of an image from the filepath\n",
    "    key=path.split(sep=os.sep)[-1]\n",
    "    return key\n",
    "  \n",
    "def get_data(paths_img,path_label=None,resize_dim=None):\n",
    "   \n",
    "    X=[] # initialize empty list for resized images\n",
    "    for i,path in enumerate(paths_img):\n",
    "        img=cv2.imread(path,cv2.IMREAD_COLOR) # images loaded in color (BGR)\n",
    "        img=cv2.cvtColor(img,cv2.COLOR_BGR2GRAY) # cnahging colorspace to GRAY\n",
    "        if resize_dim is not None:\n",
    "            img=cv2.resize(img,(resize_dim,resize_dim),interpolation=cv2.INTER_AREA) # resize image to 28x28\n",
    "        #X.append(np.expand_dims(img,axis=2)) # expand image to 28x28x1 and append to the list.\n",
    "        gaussian_3 = cv2.GaussianBlur(img, (9,9), 10.0) #unblur\n",
    "        img = cv2.addWeighted(img, 1.5, gaussian_3, -0.5, 0, img)\n",
    "        kernel = np.array([[-1,-1,-1], [-1,9,-1], [-1,-1,-1]]) #filter\n",
    "        img = cv2.filter2D(img, -1, kernel)\n",
    "        X.append(img) # expand image to 28x28x1 and append to the list\n",
    "        # display progress\n",
    "        if i==len(paths_img)-1:\n",
    "            end='\\n'\n",
    "        else: end='\\r'\n",
    "        print('processed {}/{}'.format(i+1,len(paths_img)),end=end)\n",
    "        \n",
    "    X=np.array(X) # tranform list to numpy array\n",
    "    if  path_label is None:\n",
    "        return X\n",
    "    else:\n",
    "        df = pd.read_csv(path_label) # read labels\n",
    "        df=df.set_index('filename') \n",
    "        y_label=[df.loc[get_key(path)]['label'] for path in  paths_img] # get the labels corresponding to the images\n",
    "        y=to_categorical(y_label,60) # transfrom integer value to categorical variable\n",
    "        return X, y"
   ]
  },
  {
   "cell_type": "code",
   "execution_count": 0,
   "metadata": {
    "colab": {
     "base_uri": "https://localhost:8080/",
     "height": 158
    },
    "colab_type": "code",
    "id": "2OdbfYFTgGSy",
    "outputId": "e4062c8c-a2bd-4ca5-e5ce-91592d3c4491"
   },
   "outputs": [
    {
     "name": "stdout",
     "output_type": "stream",
     "text": [
      "processed 16710/16710\n",
      "processed 18133/18133\n",
      "processed 63255/63255\n",
      "processed 3005/3005\n",
      "processed 1000/1000\n",
      "processed 1100/1100\n",
      "processed 3900/3900\n"
     ]
    },
    {
     "data": {
      "text/plain": [
       "(6000, 96, 96, 1)"
      ]
     },
     "execution_count": 9,
     "metadata": {
      "tags": []
     },
     "output_type": "execute_result"
    }
   ],
   "source": [
    "X_train_n,y_train_n=get_data(paths_t_numbers,path_label_t_num,resize_dim=RESIZE_DIM)\n",
    "X_train_v,y_train_v=get_data(paths_t_vowels,path_label_t_vow,resize_dim=RESIZE_DIM)\n",
    "X_train_c,y_train_c=get_data(paths_t_cons,path_label_t_cons,resize_dim=RESIZE_DIM)\n",
    "\n",
    "X_train_cor,y_train_cor=get_data(paths_cor,path_lavel_cor,resize_dim=RESIZE_DIM)\n",
    "\n",
    "\n",
    "\n",
    "X_val_n,y_val_n=get_data(paths_v_numbers,path_label_v_num,resize_dim=RESIZE_DIM)\n",
    "X_val_v,y_val_v=get_data(paths_v_vowels,path_label_v_vow,resize_dim=RESIZE_DIM)\n",
    "X_val_c,y_val_c=get_data(paths_v_cons,path_label_v_cons,resize_dim=RESIZE_DIM)\n",
    "\n",
    "\n",
    "X_train_all=np.concatenate((X_train_n,X_train_v,X_train_c,X_train_cor),axis=0)\n",
    "y_train_all=np.concatenate((y_train_n,y_train_v,y_train_c,y_train_cor),axis=0)\n",
    "\n",
    "X_train_all.shape, y_train_all.shape\n",
    "X_show_all=X_train_all\n",
    "X_show_all.shape\n",
    "\n",
    "\n",
    "X_val_all=np.concatenate((X_val_n,X_val_v,X_val_c),axis=0)\n",
    "y_val_all=np.concatenate((y_val_n,y_val_v,y_val_c),axis=0)\n",
    "X_val_all.shape, y_val_all.shape\n",
    "\n",
    "\n",
    "X_train_all = X_train_all.reshape(X_train_all.shape[0],96, 96,1).astype('float32')\n",
    "X_val_all = X_val_all.reshape(X_val_all.shape[0],96, 96,1).astype('float32')\n",
    "\n",
    "X_train_all.shape\n",
    "X_val_all.shape"
   ]
  },
  {
   "cell_type": "code",
   "execution_count": 0,
   "metadata": {
    "colab": {},
    "colab_type": "code",
    "id": "Ptf472-8ooh_"
   },
   "outputs": [],
   "source": [
    "\n",
    "def data_aug(X_train,X_test,y_train,y_test,train_batch_size,test_batch_size):\n",
    "    train_datagen = ImageDataGenerator(\n",
    "        rotation_range=10,\n",
    "        width_shift_range=0.1,\n",
    "        height_shift_range=0.1,\n",
    "        rescale=1.0/255,\n",
    "        shear_range=0.1,\n",
    "        #zoom_range=0.1,\n",
    "        horizontal_flip=False,\n",
    "        fill_mode='nearest')\n",
    "    test_datagen = ImageDataGenerator(rescale=1.0/255)\n",
    "    train_batch = train_datagen.flow(X_train,y_train,batch_size=train_batch_size)\n",
    "    test_batch = test_datagen.flow(X_test,y_test,batch_size=test_batch_size)\n",
    "    return (train_batch,test_batch)"
   ]
  },
  {
   "cell_type": "code",
   "execution_count": 0,
   "metadata": {
    "colab": {},
    "colab_type": "code",
    "id": "zlWrujGrgeio"
   },
   "outputs": [],
   "source": [
    "#X_train_all = X_train_all /255\n",
    "indices=list(range(len(X_train_all)))\n",
    "np.random.seed(32)\n",
    "np.random.shuffle(indices)\n",
    "\n",
    "train=int(len(indices)*0.80)\n",
    "\n",
    "# train data\n",
    "X_train=X_train_all[indices[:train]] \n",
    "y_train=y_train_all[indices[:train]]\n",
    "\n",
    "#test data\n",
    "X_test=X_train_all[indices[-(len(indices)-train):]] \n",
    "y_test=y_train_all[indices[-(len(indices)-train):]]\n"
   ]
  },
  {
   "cell_type": "code",
   "execution_count": 0,
   "metadata": {
    "colab": {
     "base_uri": "https://localhost:8080/",
     "height": 950
    },
    "colab_type": "code",
    "id": "9tWcLM05gqN8",
    "outputId": "f9df50da-c392-4915-f3b8-4afbff63f104"
   },
   "outputs": [
    {
     "name": "stdout",
     "output_type": "stream",
     "text": [
      "_________________________________________________________________\n",
      "Layer (type)                 Output Shape              Param #   \n",
      "=================================================================\n",
      "conv2d_1 (Conv2D)            (None, 96, 96, 64)        640       \n",
      "_________________________________________________________________\n",
      "dropout_1 (Dropout)          (None, 96, 96, 64)        0         \n",
      "_________________________________________________________________\n",
      "max_pooling2d_1 (MaxPooling2 (None, 48, 48, 64)        0         \n",
      "_________________________________________________________________\n",
      "conv2d_2 (Conv2D)            (None, 48, 48, 128)       73856     \n",
      "_________________________________________________________________\n",
      "dropout_2 (Dropout)          (None, 48, 48, 128)       0         \n",
      "_________________________________________________________________\n",
      "max_pooling2d_2 (MaxPooling2 (None, 24, 24, 128)       0         \n",
      "_________________________________________________________________\n",
      "conv2d_3 (Conv2D)            (None, 24, 24, 256)       295168    \n",
      "_________________________________________________________________\n",
      "dropout_3 (Dropout)          (None, 24, 24, 256)       0         \n",
      "_________________________________________________________________\n",
      "conv2d_4 (Conv2D)            (None, 24, 24, 256)       590080    \n",
      "_________________________________________________________________\n",
      "dropout_4 (Dropout)          (None, 24, 24, 256)       0         \n",
      "_________________________________________________________________\n",
      "max_pooling2d_3 (MaxPooling2 (None, 12, 12, 256)       0         \n",
      "_________________________________________________________________\n",
      "conv2d_5 (Conv2D)            (None, 12, 12, 512)       1180160   \n",
      "_________________________________________________________________\n",
      "dropout_5 (Dropout)          (None, 12, 12, 512)       0         \n",
      "_________________________________________________________________\n",
      "conv2d_6 (Conv2D)            (None, 12, 12, 512)       2359808   \n",
      "_________________________________________________________________\n",
      "dropout_6 (Dropout)          (None, 12, 12, 512)       0         \n",
      "_________________________________________________________________\n",
      "max_pooling2d_4 (MaxPooling2 (None, 6, 6, 512)         0         \n",
      "_________________________________________________________________\n",
      "flatten_1 (Flatten)          (None, 18432)             0         \n",
      "_________________________________________________________________\n",
      "dense_1 (Dense)              (None, 512)               9437696   \n",
      "_________________________________________________________________\n",
      "dropout_7 (Dropout)          (None, 512)               0         \n",
      "_________________________________________________________________\n",
      "dense_2 (Dense)              (None, 512)               262656    \n",
      "_________________________________________________________________\n",
      "dropout_8 (Dropout)          (None, 512)               0         \n",
      "_________________________________________________________________\n",
      "dense_3 (Dense)              (None, 60)                30780     \n",
      "_________________________________________________________________\n",
      "activation_1 (Activation)    (None, 60)                0         \n",
      "=================================================================\n",
      "Total params: 14,230,844\n",
      "Trainable params: 14,230,844\n",
      "Non-trainable params: 0\n",
      "_________________________________________________________________\n"
     ]
    }
   ],
   "source": [
    "def my_model(img_size=96,channels=1):\n",
    "    model = Sequential()\n",
    "    input_shape = (img_size,img_size,channels)\n",
    "    \n",
    "    model.add(Conv2D(64, (3, 3), input_shape=input_shape,activation='relu', padding='same',kernel_regularizer=regularizers.l2(0.000001)))\n",
    "    model.add(Dropout(0.2))\n",
    "    model.add(MaxPooling2D(pool_size=(2, 2)))\n",
    "    \n",
    "    model.add(Conv2D(128, (3, 3),activation='relu',padding='same',kernel_regularizer=regularizers.l2(0.000001)))\n",
    "    model.add(Dropout(0.2))\n",
    "    model.add(MaxPooling2D(pool_size=(2, 2)))\n",
    "   \n",
    "    \n",
    "    model.add(Conv2D(256, (3, 3),activation='relu',padding='same',kernel_regularizer=regularizers.l2(0.000001)))\n",
    "    model.add(Dropout(0.2))\n",
    "    model.add(Conv2D(256, (3, 3),activation='relu',padding='same',kernel_regularizer=regularizers.l2(0.000001)))\n",
    "    model.add(Dropout(0.2))\n",
    "    model.add(MaxPooling2D(pool_size=(2, 2)))\n",
    "    \n",
    "    model.add(Conv2D(512, (3, 3),activation='relu',padding='same',kernel_regularizer=regularizers.l2(0.000001)))\n",
    "    model.add(Dropout(0.2))\n",
    "    model.add(Conv2D(512, (3, 3),activation='relu',padding='same',kernel_regularizer=regularizers.l2(0.000001)))\n",
    "    model.add(Dropout(0.2))\n",
    "    model.add(MaxPooling2D(pool_size=(2, 2)))\n",
    "    \n",
    "    model.add(Flatten())\n",
    "    model.add(Dense(512,activation='relu',kernel_regularizer=regularizers.l2(0.000001)))\n",
    "    #model.add(BatchNormalization())\n",
    "    model.add(Dropout(0.2))\n",
    "    model.add(Dense(512,activation='relu',kernel_regularizer=regularizers.l2(0.000001)))\n",
    "    #model.add(BatchNormalization())\n",
    "    model.add(Dropout(0.2))\n",
    "    \n",
    "    model.add(Dense(60))\n",
    "    model.add(Activation('softmax'))\n",
    "    \n",
    "    from keras import optimizers\n",
    "    sgd = optimizers.SGD(lr=0.01, decay=1e-6, momentum=0.9, nesterov=True)\n",
    "    model.compile(loss='categorical_crossentropy', metrics=['accuracy'],optimizer=sgd)\n",
    "    return model\n",
    "\n",
    "model=my_model()\n",
    "model.summary()"
   ]
  },
  {
   "cell_type": "code",
   "execution_count": 0,
   "metadata": {
    "colab": {
     "base_uri": "https://localhost:8080/",
     "height": 1794
    },
    "colab_type": "code",
    "id": "S2eUvWxvpbuz",
    "outputId": "502101c4-4bc2-40f3-d5cc-c3e967c49141"
   },
   "outputs": [
    {
     "name": "stdout",
     "output_type": "stream",
     "text": [
      "Epoch 1/50\n",
      " - 290s - loss: 2.3415 - acc: 0.3748 - val_loss: 1.0782 - val_acc: 0.8254\n",
      "Epoch 2/50\n",
      " - 267s - loss: 0.7543 - acc: 0.7702 - val_loss: 0.4785 - val_acc: 0.9236\n",
      "Epoch 3/50\n",
      " - 268s - loss: 0.4552 - acc: 0.8623 - val_loss: 0.3332 - val_acc: 0.9442\n",
      "Epoch 4/50\n",
      " - 267s - loss: 0.3307 - acc: 0.9015 - val_loss: 0.2966 - val_acc: 0.9593\n",
      "Epoch 5/50\n",
      " - 267s - loss: 0.2687 - acc: 0.9202 - val_loss: 0.2337 - val_acc: 0.9624\n",
      "Epoch 6/50\n",
      " - 267s - loss: 0.2290 - acc: 0.9314 - val_loss: 0.1831 - val_acc: 0.9671\n",
      "Epoch 7/50\n",
      " - 267s - loss: 0.2022 - acc: 0.9402 - val_loss: 0.1818 - val_acc: 0.9709\n",
      "Epoch 8/50\n",
      " - 267s - loss: 0.1816 - acc: 0.9467 - val_loss: 0.1845 - val_acc: 0.9717\n",
      "Epoch 9/50\n",
      " - 267s - loss: 0.1665 - acc: 0.9507 - val_loss: 0.1466 - val_acc: 0.9723\n",
      "Epoch 10/50\n",
      " - 267s - loss: 0.1570 - acc: 0.9544 - val_loss: 0.1671 - val_acc: 0.9749\n",
      "Epoch 11/50\n",
      " - 267s - loss: 0.1414 - acc: 0.9581 - val_loss: 0.1446 - val_acc: 0.9760\n",
      "Epoch 12/50\n",
      " - 267s - loss: 0.1320 - acc: 0.9617 - val_loss: 0.1460 - val_acc: 0.9761\n",
      "Epoch 13/50\n",
      " - 267s - loss: 0.1292 - acc: 0.9625 - val_loss: 0.1614 - val_acc: 0.9723\n",
      "Epoch 14/50\n",
      " - 267s - loss: 0.1230 - acc: 0.9639 - val_loss: 0.1223 - val_acc: 0.9779\n",
      "Epoch 15/50\n",
      " - 267s - loss: 0.1139 - acc: 0.9665 - val_loss: 0.1183 - val_acc: 0.9783\n",
      "Epoch 16/50\n",
      " - 267s - loss: 0.1086 - acc: 0.9687 - val_loss: 0.1160 - val_acc: 0.9779\n",
      "Epoch 17/50\n",
      " - 267s - loss: 0.1052 - acc: 0.9692 - val_loss: 0.1094 - val_acc: 0.9783\n",
      "Epoch 18/50\n",
      " - 267s - loss: 0.0999 - acc: 0.9707 - val_loss: 0.1271 - val_acc: 0.9770\n",
      "Epoch 19/50\n",
      " - 267s - loss: 0.0963 - acc: 0.9724 - val_loss: 0.1061 - val_acc: 0.9790\n",
      "Epoch 20/50\n",
      " - 266s - loss: 0.0924 - acc: 0.9730 - val_loss: 0.1085 - val_acc: 0.9783\n",
      "Epoch 21/50\n",
      " - 266s - loss: 0.0926 - acc: 0.9732 - val_loss: 0.1230 - val_acc: 0.9796\n",
      "Epoch 22/50\n",
      " - 266s - loss: 0.0890 - acc: 0.9732 - val_loss: 0.1057 - val_acc: 0.9793\n",
      "Epoch 23/50\n",
      " - 266s - loss: 0.0842 - acc: 0.9757 - val_loss: 0.1011 - val_acc: 0.9796\n",
      "Epoch 24/50\n",
      " - 266s - loss: 0.0806 - acc: 0.9768 - val_loss: 0.0964 - val_acc: 0.9786\n",
      "Epoch 25/50\n",
      " - 266s - loss: 0.0811 - acc: 0.9762 - val_loss: 0.0989 - val_acc: 0.9791\n",
      "Epoch 26/50\n",
      " - 266s - loss: 0.0766 - acc: 0.9771 - val_loss: 0.1083 - val_acc: 0.9801\n",
      "Epoch 27/50\n",
      " - 266s - loss: 0.0761 - acc: 0.9774 - val_loss: 0.1014 - val_acc: 0.9808\n",
      "Epoch 28/50\n",
      " - 266s - loss: 0.0722 - acc: 0.9786 - val_loss: 0.1093 - val_acc: 0.9816\n",
      "Epoch 29/50\n",
      " - 266s - loss: 0.0703 - acc: 0.9796 - val_loss: 0.0957 - val_acc: 0.9811\n",
      "Epoch 30/50\n",
      " - 266s - loss: 0.0688 - acc: 0.9798 - val_loss: 0.0916 - val_acc: 0.9809\n",
      "Epoch 31/50\n",
      " - 267s - loss: 0.0679 - acc: 0.9800 - val_loss: 0.0956 - val_acc: 0.9817\n",
      "Epoch 32/50\n",
      " - 267s - loss: 0.0671 - acc: 0.9801 - val_loss: 0.0886 - val_acc: 0.9800\n",
      "Epoch 33/50\n",
      " - 267s - loss: 0.0635 - acc: 0.9814 - val_loss: 0.0884 - val_acc: 0.9812\n",
      "Epoch 34/50\n",
      " - 267s - loss: 0.0630 - acc: 0.9822 - val_loss: 0.0863 - val_acc: 0.9813\n",
      "Epoch 35/50\n",
      " - 267s - loss: 0.0628 - acc: 0.9815 - val_loss: 0.0908 - val_acc: 0.9815\n",
      "Epoch 36/50\n",
      " - 267s - loss: 0.0602 - acc: 0.9826 - val_loss: 0.0910 - val_acc: 0.9801\n",
      "Epoch 37/50\n",
      " - 267s - loss: 0.0584 - acc: 0.9826 - val_loss: 0.0841 - val_acc: 0.9806\n",
      "Epoch 38/50\n",
      " - 266s - loss: 0.0563 - acc: 0.9834 - val_loss: 0.0920 - val_acc: 0.9791\n",
      "Epoch 39/50\n",
      " - 267s - loss: 0.0563 - acc: 0.9833 - val_loss: 0.0943 - val_acc: 0.9806\n",
      "Epoch 40/50\n",
      " - 267s - loss: 0.0542 - acc: 0.9847 - val_loss: 0.0894 - val_acc: 0.9816\n",
      "Epoch 41/50\n",
      " - 267s - loss: 0.0530 - acc: 0.9845 - val_loss: 0.0817 - val_acc: 0.9818\n",
      "Epoch 42/50\n",
      " - 266s - loss: 0.0506 - acc: 0.9856 - val_loss: 0.0801 - val_acc: 0.9818\n",
      "Epoch 43/50\n",
      " - 267s - loss: 0.0507 - acc: 0.9847 - val_loss: 0.0802 - val_acc: 0.9816\n",
      "Epoch 44/50\n",
      " - 267s - loss: 0.0494 - acc: 0.9858 - val_loss: 0.0863 - val_acc: 0.9817\n",
      "Epoch 45/50\n",
      " - 267s - loss: 0.0499 - acc: 0.9862 - val_loss: 0.0841 - val_acc: 0.9804\n",
      "Epoch 46/50\n",
      " - 267s - loss: 0.0472 - acc: 0.9862 - val_loss: 0.0767 - val_acc: 0.9819\n",
      "Epoch 47/50\n",
      " - 266s - loss: 0.0488 - acc: 0.9860 - val_loss: 0.0795 - val_acc: 0.9818\n",
      "Epoch 48/50\n",
      " - 266s - loss: 0.0475 - acc: 0.9863 - val_loss: 0.0795 - val_acc: 0.9826\n",
      "Epoch 49/50\n",
      " - 266s - loss: 0.0461 - acc: 0.9867 - val_loss: 0.0767 - val_acc: 0.9822\n",
      "Epoch 50/50\n",
      " - 266s - loss: 0.0448 - acc: 0.9871 - val_loss: 0.0762 - val_acc: 0.9824\n"
     ]
    },
    {
     "data": {
      "text/plain": [
       "<keras.callbacks.History at 0x7f58b807b2b0>"
      ]
     },
     "execution_count": 13,
     "metadata": {
      "tags": []
     },
     "output_type": "execute_result"
    }
   ],
   "source": [
    "batch_size = 256\n",
    "train_batch, test_batch = data_aug(X_train,X_test,y_train,y_test, batch_size, batch_size)\n",
    "model=my_model() \n",
    "epochs =50\n",
    "model.fit_generator(train_batch,\n",
    "                    validation_data=test_batch,\n",
    "                    epochs=epochs,\n",
    "                    validation_steps= X_test.shape[0] / batch_size, \n",
    "                    steps_per_epoch= X_train.shape[0] / batch_size,\n",
    "                    verbose=2)"
   ]
  },
  {
   "cell_type": "code",
   "execution_count": 0,
   "metadata": {
    "colab": {},
    "colab_type": "code",
    "id": "MXDjMr6w7TGQ"
   },
   "outputs": [],
   "source": [
    "model.save('512_60.h5')                      "
   ]
  },
  {
   "cell_type": "code",
   "execution_count": 0,
   "metadata": {
    "colab": {
     "base_uri": "https://localhost:8080/",
     "height": 52
    },
    "colab_type": "code",
    "id": "OfXIiDvl6mwR",
    "outputId": "3f651059-a6d6-44b6-d2b1-20cbe7f83b39"
   },
   "outputs": [
    {
     "name": "stdout",
     "output_type": "stream",
     "text": [
      "6000/6000 [==============================] - 7s 1ms/step\n"
     ]
    },
    {
     "data": {
      "text/plain": [
       "[0.6778025513986746, 0.9573333336512247]"
      ]
     },
     "execution_count": 14,
     "metadata": {
      "tags": []
     },
     "output_type": "execute_result"
    }
   ],
   "source": [
    "#model=load_model('13_b64_55.h5')\n",
    "model.evaluate(X_val_all, y_val_all,batch_size=128)"
   ]
  },
  {
   "cell_type": "code",
   "execution_count": 0,
   "metadata": {
    "colab": {
     "base_uri": "https://localhost:8080/",
     "height": 52
    },
    "colab_type": "code",
    "id": "mZtdvSAxU_c-",
    "outputId": "80ac82fe-7f94-432c-f88f-1b7190615a64"
   },
   "outputs": [
    {
     "name": "stdout",
     "output_type": "stream",
     "text": [
      "101103/101103 [==============================] - 102s 1ms/step\n"
     ]
    },
    {
     "data": {
      "text/plain": [
       "[0.08689319127750007, 0.9947281485218045]"
      ]
     },
     "execution_count": 15,
     "metadata": {
      "tags": []
     },
     "output_type": "execute_result"
    }
   ],
   "source": [
    "model.evaluate(X_train_all, y_train_all)"
   ]
  },
  {
   "cell_type": "code",
   "execution_count": 0,
   "metadata": {
    "colab": {},
    "colab_type": "code",
    "id": "orKFvN7W3nJX"
   },
   "outputs": [],
   "source": []
  },
  {
   "cell_type": "code",
   "execution_count": 0,
   "metadata": {
    "colab": {},
    "colab_type": "code",
    "id": "HzSuNh9d_-_W"
   },
   "outputs": [],
   "source": []
  },
  {
   "cell_type": "code",
   "execution_count": 0,
   "metadata": {
    "colab": {},
    "colab_type": "code",
    "id": "RnbvGw12Fw9f"
   },
   "outputs": [],
   "source": []
  },
  {
   "cell_type": "code",
   "execution_count": 0,
   "metadata": {
    "colab": {},
    "colab_type": "code",
    "id": "eJjxkhgg4upC"
   },
   "outputs": [],
   "source": []
  },
  {
   "cell_type": "code",
   "execution_count": 0,
   "metadata": {
    "colab": {},
    "colab_type": "code",
    "id": "cpxd5o0FUKiw"
   },
   "outputs": [],
   "source": [
    "\n"
   ]
  }
 ],
 "metadata": {
  "accelerator": "GPU",
  "colab": {
   "collapsed_sections": [],
   "name": "512_50.ipynb",
   "provenance": [],
   "version": "0.3.2"
  },
  "kernelspec": {
   "display_name": "Python 3",
   "language": "python",
   "name": "python3"
  },
  "language_info": {
   "codemirror_mode": {
    "name": "ipython",
    "version": 3
   },
   "file_extension": ".py",
   "mimetype": "text/x-python",
   "name": "python",
   "nbconvert_exporter": "python",
   "pygments_lexer": "ipython3",
   "version": "3.6.6"
  }
 },
 "nbformat": 4,
 "nbformat_minor": 1
}
